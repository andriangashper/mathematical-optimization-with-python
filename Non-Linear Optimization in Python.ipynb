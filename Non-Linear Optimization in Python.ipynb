{
 "cells": [
  {
   "cell_type": "markdown",
   "id": "psychological-thriller",
   "metadata": {},
   "source": [
    "## Solving a simple non-linear optimization problem with open source solver in Python"
   ]
  },
  {
   "cell_type": "markdown",
   "id": "defensive-perception",
   "metadata": {},
   "source": [
    "#### The Problem"
   ]
  },
  {
   "cell_type": "markdown",
   "id": "loving-tiger",
   "metadata": {},
   "source": [
    "maximize:  $\\sum_{j}(X_{j}-cX_{j}^2)ROI_{j}$ \n",
    "\n",
    "subject to:  $\\sum_{j}X_{j} \\leq B$\n",
    "\n",
    "subject to:  $X_j \\leq S_j \\space\\space\\space \\forall j$\n",
    "\n",
    "subject to:  $X_{TV} \\leq 0.5\\sum_j X_j$"
   ]
  },
  {
   "cell_type": "markdown",
   "id": "technical-restaurant",
   "metadata": {},
   "source": [
    "$j \\in J = Index(Marketing Channel)$ \n",
    "\n",
    "$X_j = Decision Variable(How\\space much \\space to \\space invest \\space in \\space each \\space channel \\space j)$\n",
    "\n",
    "$B = Parameter(Budget)$\n",
    "\n",
    "$S_j = Parameter(Channel \\space satuarion \\space point)$\n",
    "\n",
    "$ROI_j = Parameter(ReturnOnInvestment)$"
   ]
  },
  {
   "cell_type": "markdown",
   "id": "patient-preference",
   "metadata": {},
   "source": [
    "#### DATA: "
   ]
  },
  {
   "cell_type": "code",
   "execution_count": 58,
   "id": "introductory-float",
   "metadata": {},
   "outputs": [],
   "source": [
    "# Assume the following data\n",
    "\n",
    "Chanell = [\"FB\",\"INS\",\"TV\",\"GOOGL\"]\n",
    "B = 100000\n",
    "ROI = {\"FB\":0.08,\"INS\":0.1,\"TV\":0.15,\"GOOGL\":0.07}\n",
    "S = {\"FB\":90000,\"INS\":70000,\"TV\":80000,\"GOOGL\":20000}\n",
    "c = 0.0002"
   ]
  },
  {
   "cell_type": "code",
   "execution_count": 59,
   "id": "legitimate-doctrine",
   "metadata": {},
   "outputs": [],
   "source": [
    "# IMPORT PACKAGES\n",
    "import pulp as plp\n",
    "import numpy as np"
   ]
  },
  {
   "cell_type": "code",
   "execution_count": 35,
   "id": "complete-potter",
   "metadata": {},
   "outputs": [],
   "source": [
    "# Write the model in a function\n",
    "def MIO_non_linear(Chanell,B,ROI,S):\n",
    "    \n",
    "    # Define the type of problem\n",
    "    prob = plp.LpProblem('MIO',plp.LpMaximize)\n",
    "    \n",
    "    # Define the decision variable\n",
    "    X = plp.LpVariable.dicts(\"X\", ((j) for j in Chanell), lowBound=0,cat=\"Continuous\")\n",
    "    \n",
    "    # Define the model obj. function\n",
    "    prob += plp.lpSum([(X[j]*ROI[j]) for j in Chanell])\n",
    "    \n",
    "    # Define the model constraints\n",
    "    prob += plp.lpSum([X[j] for j in Chanell]) <= B\n",
    "    \n",
    "    prob += plp.lpSum([X[j] for j in Chanell])*0.5 >= X[\"TV\"]\n",
    "    \n",
    "    for j in Chanell:\n",
    "        prob += X[j] <= S[j]\n",
    "    \n",
    "    # Model Solve\n",
    "    prob.solve()\n",
    "    print(plp.LpStatus[prob.status])\n",
    "    \n",
    "    # Structure the output\n",
    "    the_X = np.array([X[j].varValue for j in Chanell])\n",
    "    \n",
    "    profit = 0\n",
    "    for i in range(len(the_X)):\n",
    "        profit += the_X[i]*list(ROI.values())[i]\n",
    "        \n",
    "    # Return values\n",
    "    return the_X, profit\n",
    "    "
   ]
  },
  {
   "cell_type": "code",
   "execution_count": 36,
   "id": "ahead-brain",
   "metadata": {},
   "outputs": [
    {
     "name": "stdout",
     "output_type": "stream",
     "text": [
      "Optimal\n"
     ]
    },
    {
     "data": {
      "text/plain": [
       "(array([    0., 50000., 50000.,     0.]), 12500.0)"
      ]
     },
     "execution_count": 36,
     "metadata": {},
     "output_type": "execute_result"
    }
   ],
   "source": [
    "# Solve the model, given the data, and examine the results \n",
    "\n",
    "MIO_non_linear(Chanell,B,ROI,S)"
   ]
  },
  {
   "cell_type": "markdown",
   "id": "widespread-fields",
   "metadata": {},
   "source": [
    "### CONCLUSION: PuLP cannot solve Non-linear problems"
   ]
  },
  {
   "cell_type": "markdown",
   "id": "latest-photography",
   "metadata": {},
   "source": [
    "### Solving same problem but in Pyomo"
   ]
  },
  {
   "cell_type": "code",
   "execution_count": 60,
   "id": "million-indicator",
   "metadata": {},
   "outputs": [],
   "source": [
    "import pyomo.environ as pyo"
   ]
  },
  {
   "cell_type": "code",
   "execution_count": 8,
   "id": "lined-crazy",
   "metadata": {},
   "outputs": [
    {
     "data": {
      "text/plain": [
       "<pyomo.core.base.constraint._GeneralConstraintData at 0x21230197288>"
      ]
     },
     "execution_count": 8,
     "metadata": {},
     "output_type": "execute_result"
    }
   ],
   "source": [
    "# model formulation\n",
    "model = pyo.ConcreteModel()\n",
    "\n",
    "# variables\n",
    "model.x = pyo.Var(Chanell,domain=pyo.NonNegativeReals)\n",
    "\n",
    "# objective\n",
    "profit = sum(ROI[j] * model.x[j] for j in Chanell)\n",
    "model.objective = pyo.Objective(expr = profit, sense=pyo.maximize)\n",
    "\n",
    "# constraints\n",
    "model.constraints = pyo.ConstraintList()\n",
    "for j in Chanell:\n",
    "    model.constraints.add(model.x[j] <= S[j])\n",
    "model.constraints.add(B >= sum(model.x[j] for j in Chanell))\n",
    "model.constraints.add(model.x[\"TV\"] <= 0.5*sum(model.x[j] for j in Chanell))"
   ]
  },
  {
   "cell_type": "code",
   "execution_count": 39,
   "id": "finished-chuck",
   "metadata": {},
   "outputs": [
    {
     "name": "stdout",
     "output_type": "stream",
     "text": [
      "2 Set Declarations\n",
      "    constraints_index : Size=1, Index=None, Ordered=Insertion\n",
      "        Key  : Dimen : Domain : Size : Members\n",
      "        None :     1 :    Any :    6 : {1, 2, 3, 4, 5, 6}\n",
      "    x_index : Size=1, Index=None, Ordered=Insertion\n",
      "        Key  : Dimen : Domain : Size : Members\n",
      "        None :     1 :    Any :    4 : {'FB', 'INS', 'TV', 'GOOGL'}\n",
      "\n",
      "1 Var Declarations\n",
      "    x : Size=4, Index=x_index\n",
      "        Key   : Lower : Value   : Upper : Fixed : Stale : Domain\n",
      "           FB :     0 :     0.0 :  None : False : False : NonNegativeReals\n",
      "        GOOGL :     0 :     0.0 :  None : False : False : NonNegativeReals\n",
      "          INS :     0 : 50000.0 :  None : False : False : NonNegativeReals\n",
      "           TV :     0 : 50000.0 :  None : False : False : NonNegativeReals\n",
      "\n",
      "1 Objective Declarations\n",
      "    objective : Size=1, Index=None, Active=True\n",
      "        Key  : Active : Sense    : Expression\n",
      "        None :   True : maximize : 0.08*x[FB] + 0.1*x[INS] + 0.15*x[TV] + 0.07*x[GOOGL]\n",
      "\n",
      "1 Constraint Declarations\n",
      "    constraints : Size=6, Index=constraints_index, Active=True\n",
      "        Key : Lower : Body                                            : Upper    : Active\n",
      "          1 :  -Inf :                                           x[FB] :  90000.0 :   True\n",
      "          2 :  -Inf :                                          x[INS] :  70000.0 :   True\n",
      "          3 :  -Inf :                                           x[TV] :  80000.0 :   True\n",
      "          4 :  -Inf :                                        x[GOOGL] :  20000.0 :   True\n",
      "          5 :  -Inf :               x[FB] + x[INS] + x[TV] + x[GOOGL] : 100000.0 :   True\n",
      "          6 :  -Inf : x[TV] - 0.5*(x[FB] + x[INS] + x[TV] + x[GOOGL]) :      0.0 :   True\n",
      "\n",
      "5 Declarations: x_index x objective constraints_index constraints\n"
     ]
    }
   ],
   "source": [
    "solver = pyo.SolverFactory('glpk')\n",
    "solver.solve(model)\n",
    "model.pprint()"
   ]
  },
  {
   "cell_type": "code",
   "execution_count": 11,
   "id": "uniform-supervision",
   "metadata": {},
   "outputs": [
    {
     "data": {
      "text/plain": [
       "12500.0"
      ]
     },
     "execution_count": 11,
     "metadata": {},
     "output_type": "execute_result"
    }
   ],
   "source": [
    "profit()"
   ]
  },
  {
   "cell_type": "code",
   "execution_count": 12,
   "id": "italic-rouge",
   "metadata": {},
   "outputs": [
    {
     "name": "stdout",
     "output_type": "stream",
     "text": [
      "{'FB': 0.0, 'INS': 50000.0, 'TV': 50000.0, 'GOOGL': 0.0}\n"
     ]
    }
   ],
   "source": [
    "print({j: model.x[j]() for j in Chanell})"
   ]
  },
  {
   "cell_type": "markdown",
   "id": "affecting-swaziland",
   "metadata": {},
   "source": [
    "### Now Non-linear"
   ]
  },
  {
   "cell_type": "code",
   "execution_count": 68,
   "id": "digital-dispatch",
   "metadata": {},
   "outputs": [
    {
     "data": {
      "text/plain": [
       "<pyomo.core.base.constraint._GeneralConstraintData at 0x147102f45e8>"
      ]
     },
     "execution_count": 68,
     "metadata": {},
     "output_type": "execute_result"
    }
   ],
   "source": [
    "# model formulation\n",
    "model = pyo.ConcreteModel()\n",
    "\n",
    "# variables\n",
    "model.x = pyo.Var(Chanell,domain=pyo.NonNegativeReals)\n",
    "x = model.x\n",
    "# objective\n",
    "profit = sum(ROI[j]*(x[j] - c*x[j]**2) for j in Chanell)\n",
    "model.objective = pyo.Objective(expr = profit, sense=maximize)\n",
    "\n",
    "# constraints\n",
    "model.constraints = pyo.ConstraintList()\n",
    "for j in Chanell:\n",
    "    model.constraints.add(model.x[j] - S[j] <= 0)\n",
    "model.constraints.add(B - sum(x[j] for j in Chanell) >= 0)\n",
    "for j in Chanell:\n",
    "    model.constraints.add(model.x[j] >= 0)\n",
    "model.constraints.add(model.x[\"TV\"] - 0.2*sum(model.x[j] for j in Chanell) <= 0)"
   ]
  },
  {
   "cell_type": "code",
   "execution_count": 63,
   "id": "attractive-chuck",
   "metadata": {},
   "outputs": [
    {
     "name": "stdout",
     "output_type": "stream",
     "text": [
      "2 Set Declarations\n",
      "    constraints_index : Size=1, Index=None, Ordered=Insertion\n",
      "        Key  : Dimen : Domain : Size : Members\n",
      "        None :     1 :    Any :   10 : {1, 2, 3, 4, 5, 6, 7, 8, 9, 10}\n",
      "    x_index : Size=1, Index=None, Ordered=Insertion\n",
      "        Key  : Dimen : Domain : Size : Members\n",
      "        None :     1 :    Any :    4 : {'FB', 'INS', 'TV', 'GOOGL'}\n",
      "\n",
      "1 Var Declarations\n",
      "    x : Size=4, Index=x_index\n",
      "        Key   : Lower : Value              : Upper : Fixed : Stale : Domain\n",
      "           FB :     0 : 2717.8423236514523 :  None : False : False : NonNegativeReals\n",
      "        GOOGL :     0 : 2748.9626556016597 :  None : False : False : NonNegativeReals\n",
      "          INS :     0 : 2674.2738589211617 :  None : False : False : NonNegativeReals\n",
      "           TV :     0 : 2035.2697095435685 :  None : False : False : NonNegativeReals\n",
      "\n",
      "1 Objective Declarations\n",
      "    objective : Size=1, Index=None, Active=True\n",
      "        Key  : Active : Sense    : Expression\n",
      "        None :   True : maximize : 0.08*(x[FB] - 0.0002*x[FB]**2) + 0.1*(x[INS] - 0.0002*x[INS]**2) + 0.15*(x[TV] - 0.0002*x[TV]**2) + 0.07*(x[GOOGL] - 0.0002*x[GOOGL]**2)\n",
      "\n",
      "1 Constraint Declarations\n",
      "    constraints : Size=10, Index=constraints_index, Active=True\n",
      "        Key : Lower : Body                                            : Upper : Active\n",
      "          1 :  -Inf :                                   x[FB] - 90000 :   0.0 :   True\n",
      "          2 :  -Inf :                                  x[INS] - 70000 :   0.0 :   True\n",
      "          3 :  -Inf :                                   x[TV] - 80000 :   0.0 :   True\n",
      "          4 :  -Inf :                                x[GOOGL] - 20000 :   0.0 :   True\n",
      "          5 :   0.0 :    100000 - (x[FB] + x[INS] + x[TV] + x[GOOGL]) :  +Inf :   True\n",
      "          6 :   0.0 :                                           x[FB] :  +Inf :   True\n",
      "          7 :   0.0 :                                          x[INS] :  +Inf :   True\n",
      "          8 :   0.0 :                                           x[TV] :  +Inf :   True\n",
      "          9 :   0.0 :                                        x[GOOGL] :  +Inf :   True\n",
      "         10 :  -Inf : x[TV] - 0.2*(x[FB] + x[INS] + x[TV] + x[GOOGL]) :   0.0 :   True\n",
      "\n",
      "5 Declarations: x_index x objective constraints_index constraints\n"
     ]
    }
   ],
   "source": [
    "solver = pyo.SolverFactory('baron.exe',executable = \"C:\\\\Users\\\\MyName\\\\AMPL Files\\\\ampl.mswin64\\\\baron.exe\")\n",
    "solver.solve(model)\n",
    "model.pprint()"
   ]
  },
  {
   "cell_type": "markdown",
   "id": "excellent-spring",
   "metadata": {},
   "source": [
    "#### Notes: The solver was suppose to be able to solve the problem and to be in the same folder or use \"executable = 'path' \"\n",
    "#### Baron solver is a commercial solver "
   ]
  },
  {
   "cell_type": "code",
   "execution_count": 67,
   "id": "roman-national",
   "metadata": {},
   "outputs": [
    {
     "name": "stdout",
     "output_type": "stream",
     "text": [
      "2 Set Declarations\n",
      "    constraints_index : Size=1, Index=None, Ordered=Insertion\n",
      "        Key  : Dimen : Domain : Size : Members\n",
      "        None :     1 :    Any :   10 : {1, 2, 3, 4, 5, 6, 7, 8, 9, 10}\n",
      "    x_index : Size=1, Index=None, Ordered=Insertion\n",
      "        Key  : Dimen : Domain : Size : Members\n",
      "        None :     1 :    Any :    4 : {'FB', 'INS', 'TV', 'GOOGL'}\n",
      "\n",
      "1 Var Declarations\n",
      "    x : Size=4, Index=x_index\n",
      "        Key   : Lower : Value              : Upper : Fixed : Stale : Domain\n",
      "           FB :     0 :  2717.842323647428 :  None : False : False : NonNegativeReals\n",
      "        GOOGL :     0 : 2748.9626555970412 :  None : False : False : NonNegativeReals\n",
      "          INS :     0 :  2674.273858917943 :  None : False : False : NonNegativeReals\n",
      "           TV :     0 : 2035.2697095527444 :  None : False : False : NonNegativeReals\n",
      "\n",
      "1 Objective Declarations\n",
      "    objective : Size=1, Index=None, Active=True\n",
      "        Key  : Active : Sense    : Expression\n",
      "        None :   True : maximize : 0.08*(x[FB] - 0.0002*x[FB]**2) + 0.1*(x[INS] - 0.0002*x[INS]**2) + 0.15*(x[TV] - 0.0002*x[TV]**2) + 0.07*(x[GOOGL] - 0.0002*x[GOOGL]**2)\n",
      "\n",
      "1 Constraint Declarations\n",
      "    constraints : Size=10, Index=constraints_index, Active=True\n",
      "        Key : Lower : Body                                            : Upper : Active\n",
      "          1 :  -Inf :                                   x[FB] - 90000 :   0.0 :   True\n",
      "          2 :  -Inf :                                  x[INS] - 70000 :   0.0 :   True\n",
      "          3 :  -Inf :                                   x[TV] - 80000 :   0.0 :   True\n",
      "          4 :  -Inf :                                x[GOOGL] - 20000 :   0.0 :   True\n",
      "          5 :   0.0 :    100000 - (x[FB] + x[INS] + x[TV] + x[GOOGL]) :  +Inf :   True\n",
      "          6 :   0.0 :                                           x[FB] :  +Inf :   True\n",
      "          7 :   0.0 :                                          x[INS] :  +Inf :   True\n",
      "          8 :   0.0 :                                           x[TV] :  +Inf :   True\n",
      "          9 :   0.0 :                                        x[GOOGL] :  +Inf :   True\n",
      "         10 :  -Inf : x[TV] - 0.2*(x[FB] + x[INS] + x[TV] + x[GOOGL]) :   0.0 :   True\n",
      "\n",
      "5 Declarations: x_index x objective constraints_index constraints\n"
     ]
    }
   ],
   "source": [
    "from pyomo.opt import SolverFactory\n",
    "from pyomo.environ import *\n",
    "solver = SolverFactory('couenne.exe', executable = \"C:\\\\Users\\\\MyName\\\\Solver\\\\COIN-OR-1.8.0-win32-msvc12\\\\COIN-OR\\\\win32-msvc12\\\\bin\\\\couenne.exe\")\n",
    "solver.solve(model)\n",
    "model.pprint()"
   ]
  },
  {
   "cell_type": "code",
   "execution_count": 69,
   "id": "extended-senator",
   "metadata": {},
   "outputs": [
    {
     "name": "stdout",
     "output_type": "stream",
     "text": [
      "2 Set Declarations\n",
      "    constraints_index : Size=1, Index=None, Ordered=Insertion\n",
      "        Key  : Dimen : Domain : Size : Members\n",
      "        None :     1 :    Any :   10 : {1, 2, 3, 4, 5, 6, 7, 8, 9, 10}\n",
      "    x_index : Size=1, Index=None, Ordered=Insertion\n",
      "        Key  : Dimen : Domain : Size : Members\n",
      "        None :     1 :    Any :    4 : {'FB', 'INS', 'TV', 'GOOGL'}\n",
      "\n",
      "1 Var Declarations\n",
      "    x : Size=4, Index=x_index\n",
      "        Key   : Lower : Value              : Upper : Fixed : Stale : Domain\n",
      "           FB :     0 :  2717.842323734292 :  None : False : False : NonNegativeReals\n",
      "        GOOGL :     0 :  2748.962655691427 :  None : False : False : NonNegativeReals\n",
      "          INS :     0 : 2674.2738589879723 :  None : False : False : NonNegativeReals\n",
      "           TV :     0 : 2035.2697095260462 :  None : False : False : NonNegativeReals\n",
      "\n",
      "1 Objective Declarations\n",
      "    objective : Size=1, Index=None, Active=True\n",
      "        Key  : Active : Sense    : Expression\n",
      "        None :   True : maximize : 0.08*(x[FB] - 0.0002*x[FB]**2) + 0.1*(x[INS] - 0.0002*x[INS]**2) + 0.15*(x[TV] - 0.0002*x[TV]**2) + 0.07*(x[GOOGL] - 0.0002*x[GOOGL]**2)\n",
      "\n",
      "1 Constraint Declarations\n",
      "    constraints : Size=10, Index=constraints_index, Active=True\n",
      "        Key : Lower : Body                                            : Upper : Active\n",
      "          1 :  -Inf :                                   x[FB] - 90000 :   0.0 :   True\n",
      "          2 :  -Inf :                                  x[INS] - 70000 :   0.0 :   True\n",
      "          3 :  -Inf :                                   x[TV] - 80000 :   0.0 :   True\n",
      "          4 :  -Inf :                                x[GOOGL] - 20000 :   0.0 :   True\n",
      "          5 :   0.0 :    100000 - (x[FB] + x[INS] + x[TV] + x[GOOGL]) :  +Inf :   True\n",
      "          6 :   0.0 :                                           x[FB] :  +Inf :   True\n",
      "          7 :   0.0 :                                          x[INS] :  +Inf :   True\n",
      "          8 :   0.0 :                                           x[TV] :  +Inf :   True\n",
      "          9 :   0.0 :                                        x[GOOGL] :  +Inf :   True\n",
      "         10 :  -Inf : x[TV] - 0.2*(x[FB] + x[INS] + x[TV] + x[GOOGL]) :   0.0 :   True\n",
      "\n",
      "5 Declarations: x_index x objective constraints_index constraints\n"
     ]
    }
   ],
   "source": [
    "opt = SolverFactory(\"ipopt\", executable = \"C:\\\\Users\\\\MyName\\\\Solver\\\\COIN-OR-1.8.0-win32-msvc12\\\\COIN-OR\\\\win32-msvc12\\\\bin\\\\ipopt.exe\")\n",
    "opt.solve(model)\n",
    "model.pprint()"
   ]
  },
  {
   "cell_type": "code",
   "execution_count": 70,
   "id": "representative-apple",
   "metadata": {},
   "outputs": [
    {
     "name": "stdout",
     "output_type": "stream",
     "text": [
      "2 Var Declarations\n",
      "    x : Size=1, Index=None\n",
      "        Key  : Lower : Value               : Upper : Fixed : Stale : Domain\n",
      "        None :    -5 : -0.4999999999972364 :     5 : False : False :  Reals\n",
      "    y : Size=1, Index=None\n",
      "        Key  : Lower : Value : Upper : Fixed : Stale : Domain\n",
      "        None :    -5 :   0.0 :     5 : False : False :  Reals\n",
      "\n",
      "1 Objective Declarations\n",
      "    obj : Size=1, Index=None, Active=True\n",
      "        Key  : Active : Sense    : Expression\n",
      "        None :   True : maximize : cos(x + 1) + cos(x)*cos(y)\n",
      "\n",
      "3 Declarations: x y obj\n",
      "-0.4999999999972364\n",
      "0.0\n"
     ]
    }
   ],
   "source": [
    "model2 = pyo.ConcreteModel()\n",
    "model2.x = pyo.Var(bounds= (-5,5))\n",
    "model2.y = pyo.Var(bounds= (-5,5))\n",
    "x = model2.x\n",
    "y = model2.y\n",
    "model2.obj = pyo.Objective(expr=cos(x+1)+cos(x)*cos(y), sense = maximize)\n",
    "opt = SolverFactory('couenne',executable = \"C:\\\\Users\\\\MyName\\\\Solver\\\\COIN-OR-1.8.0-win32-msvc12\\\\COIN-OR\\\\win32-msvc12\\\\bin\\\\couenne.exe\")\n",
    "opt.solve(model2)\n",
    "model2.pprint()\n",
    "print(pyo.value(x))\n",
    "print(pyo.value(y))"
   ]
  },
  {
   "cell_type": "markdown",
   "id": "certified-medium",
   "metadata": {},
   "source": [
    "##### Note: couenne and ipopt cannot deal with powers of >1 & <2 or similar non-integer, but baron can!"
   ]
  }
 ],
 "metadata": {
  "kernelspec": {
   "display_name": "Python 3",
   "language": "python",
   "name": "python3"
  },
  "language_info": {
   "codemirror_mode": {
    "name": "ipython",
    "version": 3
   },
   "file_extension": ".py",
   "mimetype": "text/x-python",
   "name": "python",
   "nbconvert_exporter": "python",
   "pygments_lexer": "ipython3",
   "version": "3.7.3"
  }
 },
 "nbformat": 4,
 "nbformat_minor": 5
}
